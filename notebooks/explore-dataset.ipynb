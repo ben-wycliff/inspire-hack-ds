{
 "cells": [
  {
   "cell_type": "markdown",
   "metadata": {},
   "source": [
    "# Exploratory Data Analysis"
   ]
  },
  {
   "cell_type": "markdown",
   "metadata": {},
   "source": [
    "## We intend to answer the following questions in this notebook\n",
    "\n",
    "1. What’s the quantity of data points whose first and last names appear in both datasets?\n",
    "    * Investigate whether these could represent the same patient by looking at the similarity of sex, petname and dob. \n",
    "    * Is it possible that there could be typos in (sex, petname and dob) causing the data points to seem unrelated?\n",
    "\n",
    "2. __update this list__\n"
   ]
  },
  {
   "cell_type": "code",
   "execution_count": null,
   "metadata": {
    "vscode": {
     "languageId": "plaintext"
    }
   },
   "outputs": [],
   "source": []
  }
 ],
 "metadata": {
  "language_info": {
   "name": "python"
  }
 },
 "nbformat": 4,
 "nbformat_minor": 2
}
