{
 "cells": [
  {
   "cell_type": "markdown",
   "metadata": {},
   "source": [
    "# Exploratory Data Analysis"
   ]
  },
  {
   "cell_type": "markdown",
   "metadata": {},
   "source": [
    "## We intend to answer the following questions in this notebook\n",
    "\n",
    "1. What’s the quantity of data points whose first and last names appear in both datasets?\n",
    "    * Investigate whether these could represent the same patient by looking at the similarity of sex, petname and dob. \n",
    "    * Is it possible that there could be typos in (sex, petname and dob) causing the data points to seem unrelated?\n"
   ]
  },
  {
   "cell_type": "markdown",
   "metadata": {},
   "source": [
    "## Import packages"
   ]
  },
  {
   "cell_type": "code",
   "execution_count": 2,
   "metadata": {},
   "outputs": [],
   "source": [
    "import matplotlib.pyplot as plt\n",
    "import numpy as np\n",
    "import pandas as pd\n",
    "import seaborn as sns"
   ]
  },
  {
   "cell_type": "markdown",
   "metadata": {},
   "source": [
    "## Loading datasets"
   ]
  },
  {
   "cell_type": "code",
   "execution_count": 4,
   "metadata": {},
   "outputs": [],
   "source": [
    "path1 = \"../data/synthetic_facility_v3.csv\"\n",
    "path2 = \"../data/synthetic_hdss_v3.csv\" \n",
    "\n",
    "df_facility = pd.read_csv(path1)\n",
    "df_hdss = pd.read_csv(path2)"
   ]
  },
  {
   "cell_type": "markdown",
   "metadata": {},
   "source": [
    "## Exploring the facility dataset"
   ]
  },
  {
   "cell_type": "code",
   "execution_count": 5,
   "metadata": {},
   "outputs": [
    {
     "data": {
      "text/html": [
       "<div>\n",
       "<style scoped>\n",
       "    .dataframe tbody tr th:only-of-type {\n",
       "        vertical-align: middle;\n",
       "    }\n",
       "\n",
       "    .dataframe tbody tr th {\n",
       "        vertical-align: top;\n",
       "    }\n",
       "\n",
       "    .dataframe thead th {\n",
       "        text-align: right;\n",
       "    }\n",
       "</style>\n",
       "<table border=\"1\" class=\"dataframe\">\n",
       "  <thead>\n",
       "    <tr style=\"text-align: right;\">\n",
       "      <th></th>\n",
       "      <th>recnr</th>\n",
       "      <th>firstname</th>\n",
       "      <th>lastname</th>\n",
       "      <th>petname</th>\n",
       "      <th>dob</th>\n",
       "      <th>sex</th>\n",
       "      <th>nationalid</th>\n",
       "      <th>patientid</th>\n",
       "      <th>visitdate</th>\n",
       "    </tr>\n",
       "  </thead>\n",
       "  <tbody>\n",
       "    <tr>\n",
       "      <th>0</th>\n",
       "      <td>2</td>\n",
       "      <td>Fatuma</td>\n",
       "      <td>NaN</td>\n",
       "      <td>Zaina</td>\n",
       "      <td>24-08-2017 00:00</td>\n",
       "      <td>2</td>\n",
       "      <td>N_ID_5000</td>\n",
       "      <td>2069</td>\n",
       "      <td>10-09-2018</td>\n",
       "    </tr>\n",
       "    <tr>\n",
       "      <th>1</th>\n",
       "      <td>3</td>\n",
       "      <td>Gloria</td>\n",
       "      <td>Rashida</td>\n",
       "      <td>NaN</td>\n",
       "      <td>11-07-1993 00:00</td>\n",
       "      <td>2</td>\n",
       "      <td>N_ID_11861</td>\n",
       "      <td>2079</td>\n",
       "      <td>14-12-2022</td>\n",
       "    </tr>\n",
       "    <tr>\n",
       "      <th>2</th>\n",
       "      <td>4</td>\n",
       "      <td>Ali</td>\n",
       "      <td>Hakram</td>\n",
       "      <td>Igomu</td>\n",
       "      <td>17-05-2014 00:00</td>\n",
       "      <td>1</td>\n",
       "      <td>N_ID_11864</td>\n",
       "      <td>2080</td>\n",
       "      <td>09-06-2023</td>\n",
       "    </tr>\n",
       "    <tr>\n",
       "      <th>3</th>\n",
       "      <td>5</td>\n",
       "      <td>Nakalema</td>\n",
       "      <td>NaN</td>\n",
       "      <td>Nkwanga</td>\n",
       "      <td>27-02-2026 00:00</td>\n",
       "      <td>2</td>\n",
       "      <td>N_ID_11867</td>\n",
       "      <td>2081</td>\n",
       "      <td>07-02-2019</td>\n",
       "    </tr>\n",
       "    <tr>\n",
       "      <th>4</th>\n",
       "      <td>6</td>\n",
       "      <td>Asuman</td>\n",
       "      <td>Sempa</td>\n",
       "      <td>Aguti</td>\n",
       "      <td>02-03-2002 00:00</td>\n",
       "      <td>1</td>\n",
       "      <td>N_ID_11870</td>\n",
       "      <td>2082</td>\n",
       "      <td>18-08-2020</td>\n",
       "    </tr>\n",
       "  </tbody>\n",
       "</table>\n",
       "</div>"
      ],
      "text/plain": [
       "   recnr firstname lastname  petname               dob  sex  nationalid  \\\n",
       "0      2    Fatuma      NaN    Zaina  24-08-2017 00:00    2   N_ID_5000   \n",
       "1      3    Gloria  Rashida      NaN  11-07-1993 00:00    2  N_ID_11861   \n",
       "2      4       Ali   Hakram    Igomu  17-05-2014 00:00    1  N_ID_11864   \n",
       "3      5  Nakalema      NaN  Nkwanga  27-02-2026 00:00    2  N_ID_11867   \n",
       "4      6    Asuman    Sempa    Aguti  02-03-2002 00:00    1  N_ID_11870   \n",
       "\n",
       "   patientid   visitdate  \n",
       "0       2069  10-09-2018  \n",
       "1       2079  14-12-2022  \n",
       "2       2080  09-06-2023  \n",
       "3       2081  07-02-2019  \n",
       "4       2082  18-08-2020  "
      ]
     },
     "execution_count": 5,
     "metadata": {},
     "output_type": "execute_result"
    }
   ],
   "source": [
    "df_facility.head()"
   ]
  },
  {
   "cell_type": "code",
   "execution_count": 6,
   "metadata": {},
   "outputs": [
    {
     "name": "stdout",
     "output_type": "stream",
     "text": [
      "The facility dataset has 2902 rows and 9\n"
     ]
    }
   ],
   "source": [
    "fac_rows, fac_columns = df_facility.shape\n",
    "\n",
    "print(f\"The facility dataset has {fac_rows} rows and {fac_columns}\")"
   ]
  },
  {
   "cell_type": "code",
   "execution_count": 10,
   "metadata": {},
   "outputs": [
    {
     "name": "stdout",
     "output_type": "stream",
     "text": [
      "<class 'pandas.core.frame.DataFrame'>\n",
      "RangeIndex: 2902 entries, 0 to 2901\n",
      "Data columns (total 9 columns):\n",
      " #   Column      Non-Null Count  Dtype \n",
      "---  ------      --------------  ----- \n",
      " 0   recnr       2902 non-null   int64 \n",
      " 1   firstname   2902 non-null   object\n",
      " 2   lastname    2835 non-null   object\n",
      " 3   petname     2511 non-null   object\n",
      " 4   dob         2902 non-null   object\n",
      " 5   sex         2902 non-null   int64 \n",
      " 6   nationalid  2902 non-null   object\n",
      " 7   patientid   2902 non-null   int64 \n",
      " 8   visitdate   2902 non-null   object\n",
      "dtypes: int64(3), object(6)\n",
      "memory usage: 204.2+ KB\n"
     ]
    }
   ],
   "source": [
    "df_facility.info()"
   ]
  },
  {
   "cell_type": "markdown",
   "metadata": {},
   "source": [
    "From the dataframe information above, we can confirm that lastname and petname are the only columns with missing data"
   ]
  },
  {
   "cell_type": "markdown",
   "metadata": {},
   "source": [
    "#### Question: How many unique combinations of the first, last and pet names are in this table?"
   ]
  },
  {
   "cell_type": "code",
   "execution_count": 13,
   "metadata": {},
   "outputs": [
    {
     "data": {
      "text/html": [
       "<div>\n",
       "<style scoped>\n",
       "    .dataframe tbody tr th:only-of-type {\n",
       "        vertical-align: middle;\n",
       "    }\n",
       "\n",
       "    .dataframe tbody tr th {\n",
       "        vertical-align: top;\n",
       "    }\n",
       "\n",
       "    .dataframe thead th {\n",
       "        text-align: right;\n",
       "    }\n",
       "</style>\n",
       "<table border=\"1\" class=\"dataframe\">\n",
       "  <thead>\n",
       "    <tr style=\"text-align: right;\">\n",
       "      <th></th>\n",
       "      <th>firstname</th>\n",
       "      <th>lastname</th>\n",
       "      <th>petname</th>\n",
       "      <th>count</th>\n",
       "    </tr>\n",
       "  </thead>\n",
       "  <tbody>\n",
       "    <tr>\n",
       "      <th>0</th>\n",
       "      <td>Ababu</td>\n",
       "      <td>Crispus</td>\n",
       "      <td>Lwasa</td>\n",
       "      <td>1</td>\n",
       "    </tr>\n",
       "    <tr>\n",
       "      <th>1</th>\n",
       "      <td>Abalyogera</td>\n",
       "      <td>Namulondo</td>\n",
       "      <td>Omutima</td>\n",
       "      <td>1</td>\n",
       "    </tr>\n",
       "    <tr>\n",
       "      <th>2</th>\n",
       "      <td>Abasa</td>\n",
       "      <td>Bukosi</td>\n",
       "      <td>Awiti</td>\n",
       "      <td>1</td>\n",
       "    </tr>\n",
       "    <tr>\n",
       "      <th>3</th>\n",
       "      <td>Abasa</td>\n",
       "      <td>Nathan</td>\n",
       "      <td>Nakalanzi</td>\n",
       "      <td>1</td>\n",
       "    </tr>\n",
       "    <tr>\n",
       "      <th>4</th>\n",
       "      <td>Abatuka</td>\n",
       "      <td>Nahiya</td>\n",
       "      <td>Fanda</td>\n",
       "      <td>1</td>\n",
       "    </tr>\n",
       "  </tbody>\n",
       "</table>\n",
       "</div>"
      ],
      "text/plain": [
       "    firstname   lastname    petname  count\n",
       "0       Ababu    Crispus      Lwasa      1\n",
       "1  Abalyogera  Namulondo    Omutima      1\n",
       "2       Abasa     Bukosi      Awiti      1\n",
       "3       Abasa     Nathan  Nakalanzi      1\n",
       "4     Abatuka     Nahiya      Fanda      1"
      ]
     },
     "execution_count": 13,
     "metadata": {},
     "output_type": "execute_result"
    }
   ],
   "source": [
    "df_facility_unique_names = df_facility.groupby(['firstname',\n",
    "                                                'lastname',\n",
    "                                                'petname']).size().reset_index(name='count')\n",
    "\n",
    "df_facility_unique_names.head()"
   ]
  },
  {
   "cell_type": "code",
   "execution_count": 14,
   "metadata": {},
   "outputs": [
    {
     "name": "stdout",
     "output_type": "stream",
     "text": [
      "<class 'pandas.core.frame.DataFrame'>\n",
      "RangeIndex: 2116 entries, 0 to 2115\n",
      "Data columns (total 4 columns):\n",
      " #   Column     Non-Null Count  Dtype \n",
      "---  ------     --------------  ----- \n",
      " 0   firstname  2116 non-null   object\n",
      " 1   lastname   2116 non-null   object\n",
      " 2   petname    2116 non-null   object\n",
      " 3   count      2116 non-null   int64 \n",
      "dtypes: int64(1), object(3)\n",
      "memory usage: 66.2+ KB\n",
      "None\n"
     ]
    }
   ],
   "source": [
    "print(df_facility_unique_names.info())"
   ]
  },
  {
   "cell_type": "code",
   "execution_count": 12,
   "metadata": {},
   "outputs": [
    {
     "data": {
      "text/plain": [
       "(2116, 4)"
      ]
     },
     "execution_count": 12,
     "metadata": {},
     "output_type": "execute_result"
    }
   ],
   "source": [
    "df_facility_unique_names.shape"
   ]
  },
  {
   "cell_type": "markdown",
   "metadata": {},
   "source": [
    "From the exploration above, we can conclude that there are 2116 unique combinations of the names (firstname, lastname, petname)"
   ]
  },
  {
   "cell_type": "markdown",
   "metadata": {},
   "source": [
    "### Question: What's the range of duplication? How often are unique names duplicated?"
   ]
  },
  {
   "cell_type": "code",
   "execution_count": 18,
   "metadata": {},
   "outputs": [
    {
     "data": {
      "image/png": "[encoded data removed]",
      "text/plain": [
       "<Figure size 800x600 with 1 Axes>"
      ]
     },
     "metadata": {},
     "output_type": "display_data"
    }
   ],
   "source": [
    "unique_name_combination_counts = df_facility_unique_names['count'].value_counts()\n",
    "plt.figure(figsize=(8, 6))\n",
    "sns.barplot(x=unique_name_combination_counts.index, y=unique_name_combination_counts.values)\n",
    "\n",
    "# Add values on top of bars\n",
    "for index, value in enumerate(unique_name_combination_counts):\n",
    "    plt.text(index, value + 0.1, str(value), ha='center')\n",
    "\n",
    "plt.title('Number of unique name combinations per duplicate count category')\n",
    "plt.xlabel('Number of duplicates')\n",
    "plt.ylabel('Number of unique name combinations')\n",
    "plt.show()"
   ]
  },
  {
   "cell_type": "markdown",
   "metadata": {},
   "source": [
    "Assuming that a unique combination of (firstname, lastname and petname) represents a person.\n",
    "\n",
    "From the chart above, we can conclude that in the facility dataset:\n",
    "\n",
    "1. 1805 persons are not duplicated\n",
    "2. 284 persons are duplicated twice\n",
    "3. 25 persons are duplicated thrice\n",
    "4. 1 person is duplicated four times"
   ]
  },
  {
   "cell_type": "code",
   "execution_count": null,
   "metadata": {},
   "outputs": [],
   "source": []
  },
  {
   "cell_type": "markdown",
   "metadata": {},
   "source": [
    "### Additional questions\n",
    "\n",
    "- Is it possible that a data point with a missing value for either lastname or petname could represent of a duplicate for a person that already exists in the the dataset. This needs to be investigated by looking at other features such as **dob** and **patientid**.\n",
    "- Could we possibly have a typo in one of the (first, last, and pet names), causing a data point to appear unique, yet in actuality, it is a duplicate? We need at least one example to verify this.\n",
    "- ** Feel free to update this list **"
   ]
  },
  {
   "cell_type": "code",
   "execution_count": null,
   "metadata": {},
   "outputs": [],
   "source": [
    "df"
   ]
  },
  {
   "cell_type": "markdown",
   "metadata": {},
   "source": [
    "## Exploring the HDSS dataset"
   ]
  },
  {
   "cell_type": "markdown",
   "metadata": {},
   "source": []
  }
 ],
 "metadata": {
  "kernelspec": {
   "display_name": "venv",
   "language": "python",
   "name": "python3"
  },
  "language_info": {
   "codemirror_mode": {
    "name": "ipython",
    "version": 3
   },
   "file_extension": ".py",
   "mimetype": "text/x-python",
   "name": "python",
   "nbconvert_exporter": "python",
   "pygments_lexer": "ipython3",
   "version": "3.9.0"
  }
 },
 "nbformat": 4,
 "nbformat_minor": 2
}
