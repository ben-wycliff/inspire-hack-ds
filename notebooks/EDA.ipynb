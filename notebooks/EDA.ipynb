{
 "cells": [
  {
   "cell_type": "code",
   "execution_count": 1,
   "id": "a03b389d",
   "metadata": {},
   "outputs": [],
   "source": [
    "import pandas as pd\n",
    "import numpy as np\n",
    "import matplotlib.pyplot as plt\n",
    "import seaborn as sns"
   ]
  },
  {
   "cell_type": "code",
   "execution_count": 39,
   "id": "9d9f64f0",
   "metadata": {},
   "outputs": [],
   "source": [
    "h_facility = pd.read_csv('synthetic_facility_v3.csv')\n",
    "hdss = pd.read_csv('synthetic_hdss_v3.csv')"
   ]
  },
  {
   "cell_type": "code",
   "execution_count": 3,
   "id": "e363a44c",
   "metadata": {},
   "outputs": [
    {
     "data": {
      "text/html": [
       "<div>\n",
       "<style scoped>\n",
       "    .dataframe tbody tr th:only-of-type {\n",
       "        vertical-align: middle;\n",
       "    }\n",
       "\n",
       "    .dataframe tbody tr th {\n",
       "        vertical-align: top;\n",
       "    }\n",
       "\n",
       "    .dataframe thead th {\n",
       "        text-align: right;\n",
       "    }\n",
       "</style>\n",
       "<table border=\"1\" class=\"dataframe\">\n",
       "  <thead>\n",
       "    <tr style=\"text-align: right;\">\n",
       "      <th></th>\n",
       "      <th>recnr</th>\n",
       "      <th>firstname</th>\n",
       "      <th>lastname</th>\n",
       "      <th>petname</th>\n",
       "      <th>dob</th>\n",
       "      <th>sex</th>\n",
       "      <th>nationalid</th>\n",
       "      <th>patientid</th>\n",
       "      <th>visitdate</th>\n",
       "    </tr>\n",
       "  </thead>\n",
       "  <tbody>\n",
       "    <tr>\n",
       "      <th>0</th>\n",
       "      <td>2</td>\n",
       "      <td>Fatuma</td>\n",
       "      <td>NaN</td>\n",
       "      <td>Zaina</td>\n",
       "      <td>24/08/2017 00:00</td>\n",
       "      <td>2</td>\n",
       "      <td>N_ID_5000</td>\n",
       "      <td>2069</td>\n",
       "      <td>10/09/2018</td>\n",
       "    </tr>\n",
       "    <tr>\n",
       "      <th>1</th>\n",
       "      <td>3</td>\n",
       "      <td>Gloria</td>\n",
       "      <td>Rashida</td>\n",
       "      <td>NaN</td>\n",
       "      <td>11/07/1993 00:00</td>\n",
       "      <td>2</td>\n",
       "      <td>N_ID_11861</td>\n",
       "      <td>2079</td>\n",
       "      <td>14/12/2022</td>\n",
       "    </tr>\n",
       "    <tr>\n",
       "      <th>2</th>\n",
       "      <td>4</td>\n",
       "      <td>Ali</td>\n",
       "      <td>Hakram</td>\n",
       "      <td>Igomu</td>\n",
       "      <td>17/05/2014 00:00</td>\n",
       "      <td>1</td>\n",
       "      <td>N_ID_11864</td>\n",
       "      <td>2080</td>\n",
       "      <td>09/06/2023</td>\n",
       "    </tr>\n",
       "    <tr>\n",
       "      <th>3</th>\n",
       "      <td>5</td>\n",
       "      <td>Nakalema</td>\n",
       "      <td>NaN</td>\n",
       "      <td>Nkwanga</td>\n",
       "      <td>27/02/2026 00:00</td>\n",
       "      <td>2</td>\n",
       "      <td>N_ID_11867</td>\n",
       "      <td>2081</td>\n",
       "      <td>07/02/2019</td>\n",
       "    </tr>\n",
       "    <tr>\n",
       "      <th>4</th>\n",
       "      <td>6</td>\n",
       "      <td>Asuman</td>\n",
       "      <td>Sempa</td>\n",
       "      <td>Aguti</td>\n",
       "      <td>02/03/2002 00:00</td>\n",
       "      <td>1</td>\n",
       "      <td>N_ID_11870</td>\n",
       "      <td>2082</td>\n",
       "      <td>18/08/2020</td>\n",
       "    </tr>\n",
       "  </tbody>\n",
       "</table>\n",
       "</div>"
      ],
      "text/plain": [
       "   recnr firstname lastname  petname               dob  sex  nationalid  \\\n",
       "0      2    Fatuma      NaN    Zaina  24/08/2017 00:00    2   N_ID_5000   \n",
       "1      3    Gloria  Rashida      NaN  11/07/1993 00:00    2  N_ID_11861   \n",
       "2      4       Ali   Hakram    Igomu  17/05/2014 00:00    1  N_ID_11864   \n",
       "3      5  Nakalema      NaN  Nkwanga  27/02/2026 00:00    2  N_ID_11867   \n",
       "4      6    Asuman    Sempa    Aguti  02/03/2002 00:00    1  N_ID_11870   \n",
       "\n",
       "   patientid   visitdate  \n",
       "0       2069  10/09/2018  \n",
       "1       2079  14/12/2022  \n",
       "2       2080  09/06/2023  \n",
       "3       2081  07/02/2019  \n",
       "4       2082  18/08/2020  "
      ]
     },
     "execution_count": 3,
     "metadata": {},
     "output_type": "execute_result"
    }
   ],
   "source": [
    "h_facility.head(5)"
   ]
  },
  {
   "cell_type": "code",
   "execution_count": 4,
   "id": "d3e3db5a",
   "metadata": {},
   "outputs": [
    {
     "data": {
      "text/html": [
       "<div>\n",
       "<style scoped>\n",
       "    .dataframe tbody tr th:only-of-type {\n",
       "        vertical-align: middle;\n",
       "    }\n",
       "\n",
       "    .dataframe tbody tr th {\n",
       "        vertical-align: top;\n",
       "    }\n",
       "\n",
       "    .dataframe thead th {\n",
       "        text-align: right;\n",
       "    }\n",
       "</style>\n",
       "<table border=\"1\" class=\"dataframe\">\n",
       "  <thead>\n",
       "    <tr style=\"text-align: right;\">\n",
       "      <th></th>\n",
       "      <th>recnr</th>\n",
       "      <th>firstname</th>\n",
       "      <th>lastname</th>\n",
       "      <th>petname</th>\n",
       "      <th>dob</th>\n",
       "      <th>sex</th>\n",
       "      <th>nationalid</th>\n",
       "      <th>hdssid</th>\n",
       "      <th>hdsshhid</th>\n",
       "    </tr>\n",
       "  </thead>\n",
       "  <tbody>\n",
       "    <tr>\n",
       "      <th>0</th>\n",
       "      <td>1</td>\n",
       "      <td>Zaina</td>\n",
       "      <td>Hanifa</td>\n",
       "      <td>Ula</td>\n",
       "      <td>22/09/1930 00:00</td>\n",
       "      <td>2</td>\n",
       "      <td>NaN</td>\n",
       "      <td>I20001</td>\n",
       "      <td>HH100001</td>\n",
       "    </tr>\n",
       "    <tr>\n",
       "      <th>1</th>\n",
       "      <td>2</td>\n",
       "      <td>Godfrey</td>\n",
       "      <td>Maganda</td>\n",
       "      <td>Mukama</td>\n",
       "      <td>15/07/1934 00:00</td>\n",
       "      <td>1</td>\n",
       "      <td>NaN</td>\n",
       "      <td>I20002</td>\n",
       "      <td>HH100002</td>\n",
       "    </tr>\n",
       "    <tr>\n",
       "      <th>2</th>\n",
       "      <td>3</td>\n",
       "      <td>Kasim</td>\n",
       "      <td>Ngobi</td>\n",
       "      <td>Galabuzi</td>\n",
       "      <td>03/03/1983 00:00</td>\n",
       "      <td>1</td>\n",
       "      <td>NaN</td>\n",
       "      <td>I20003</td>\n",
       "      <td>HH100003</td>\n",
       "    </tr>\n",
       "    <tr>\n",
       "      <th>3</th>\n",
       "      <td>4</td>\n",
       "      <td>Esther</td>\n",
       "      <td>NaN</td>\n",
       "      <td>Inara</td>\n",
       "      <td>30/07/1968 00:00</td>\n",
       "      <td>2</td>\n",
       "      <td>NaN</td>\n",
       "      <td>I20004</td>\n",
       "      <td>HH100004</td>\n",
       "    </tr>\n",
       "    <tr>\n",
       "      <th>4</th>\n",
       "      <td>5</td>\n",
       "      <td>Sumaya</td>\n",
       "      <td>Swabula</td>\n",
       "      <td>NaN</td>\n",
       "      <td>13/12/1930 00:00</td>\n",
       "      <td>2</td>\n",
       "      <td>NaN</td>\n",
       "      <td>I20005</td>\n",
       "      <td>HH100005</td>\n",
       "    </tr>\n",
       "  </tbody>\n",
       "</table>\n",
       "</div>"
      ],
      "text/plain": [
       "   recnr firstname lastname   petname               dob  sex  nationalid  \\\n",
       "0      1     Zaina   Hanifa       Ula  22/09/1930 00:00    2         NaN   \n",
       "1      2   Godfrey  Maganda    Mukama  15/07/1934 00:00    1         NaN   \n",
       "2      3     Kasim    Ngobi  Galabuzi  03/03/1983 00:00    1         NaN   \n",
       "3      4    Esther      NaN     Inara  30/07/1968 00:00    2         NaN   \n",
       "4      5    Sumaya  Swabula       NaN  13/12/1930 00:00    2         NaN   \n",
       "\n",
       "   hdssid  hdsshhid  \n",
       "0  I20001  HH100001  \n",
       "1  I20002  HH100002  \n",
       "2  I20003  HH100003  \n",
       "3  I20004  HH100004  \n",
       "4  I20005  HH100005  "
      ]
     },
     "execution_count": 4,
     "metadata": {},
     "output_type": "execute_result"
    }
   ],
   "source": [
    "hdss.head(5)"
   ]
  },
  {
   "cell_type": "code",
   "execution_count": 3,
   "id": "1536d257",
   "metadata": {},
   "outputs": [
    {
     "name": "stdout",
     "output_type": "stream",
     "text": [
      "The health facility dataset has 2902 records, the hdss dataset has 4115 records\n"
     ]
    }
   ],
   "source": [
    "print(f\"The health facility dataset has {h_facility.shape[0]} records, the hdss dataset has {hdss.shape[0]} records\")"
   ]
  },
  {
   "cell_type": "markdown",
   "id": "7b3e3827",
   "metadata": {},
   "source": [
    "There are many more records in the hdss than the health facility dataset, makes sense because not everyone in the hdss catchment area may have visited the facility. "
   ]
  },
  {
   "cell_type": "code",
   "execution_count": 9,
   "id": "bbdff131",
   "metadata": {},
   "outputs": [
    {
     "data": {
      "text/plain": [
       "534"
      ]
     },
     "execution_count": 9,
     "metadata": {},
     "output_type": "execute_result"
    }
   ],
   "source": [
    "#shared firsname, lastname\n",
    "counts = h_facility.groupby(['firstname', 'lastname']).size()\n",
    "shared_names = counts[counts>1]\n",
    "shared_names.size"
   ]
  },
  {
   "cell_type": "code",
   "execution_count": 10,
   "id": "41af0e08",
   "metadata": {},
   "outputs": [
    {
     "data": {
      "text/plain": [
       "firstname   lastname \n",
       "Ababu       Crispus      1\n",
       "Abalyogera  Namulondo    1\n",
       "Abasa       Bukosi       1\n",
       "            Nathan       1\n",
       "Abatuka     Nahiya       1\n",
       "                        ..\n",
       "Zubedah     Nakaziba     2\n",
       "Zulaika     Naigaga      1\n",
       "            Nakaziba     1\n",
       "            Namumbya     1\n",
       "Zura        Racheal      1\n",
       "Length: 2207, dtype: int64"
      ]
     },
     "execution_count": 10,
     "metadata": {},
     "output_type": "execute_result"
    }
   ],
   "source": [
    "counts"
   ]
  },
  {
   "cell_type": "code",
   "execution_count": 11,
   "id": "01d27729",
   "metadata": {},
   "outputs": [
    {
     "data": {
      "text/plain": [
       "310"
      ]
     },
     "execution_count": 11,
     "metadata": {},
     "output_type": "execute_result"
    }
   ],
   "source": [
    "#shared firstname, lastname and petname\n",
    "counts2 = h_facility.groupby(['firstname', 'lastname', 'petname']).size()\n",
    "counts2[counts2>1].size"
   ]
  },
  {
   "cell_type": "code",
   "execution_count": 12,
   "id": "b69479d2",
   "metadata": {},
   "outputs": [
    {
     "data": {
      "text/plain": [
       "259"
      ]
     },
     "execution_count": 12,
     "metadata": {},
     "output_type": "execute_result"
    }
   ],
   "source": [
    "#shared firstname, lastname, petname and dob in health facility dataset\n",
    "counts3 = h_facility.groupby(['firstname', 'lastname', 'petname', 'dob']).size()\n",
    "counts3[counts3>1].size"
   ]
  },
  {
   "cell_type": "code",
   "execution_count": 13,
   "id": "20230017",
   "metadata": {},
   "outputs": [
    {
     "data": {
      "text/plain": [
       "(1347, 15)"
      ]
     },
     "execution_count": 13,
     "metadata": {},
     "output_type": "execute_result"
    }
   ],
   "source": [
    "#Data points with firstname, petname and lastname in both datasets \n",
    "#all duplicates in either dataframe are repeated \n",
    "common_names = pd.merge(hdss, h_facility, on = ['firstname', 'lastname', 'petname'], how = 'inner')\n",
    "common_names.shape"
   ]
  },
  {
   "cell_type": "code",
   "execution_count": 82,
   "id": "b0c70ad4",
   "metadata": {},
   "outputs": [
    {
     "data": {
      "text/html": [
       "<div>\n",
       "<style scoped>\n",
       "    .dataframe tbody tr th:only-of-type {\n",
       "        vertical-align: middle;\n",
       "    }\n",
       "\n",
       "    .dataframe tbody tr th {\n",
       "        vertical-align: top;\n",
       "    }\n",
       "\n",
       "    .dataframe thead th {\n",
       "        text-align: right;\n",
       "    }\n",
       "</style>\n",
       "<table border=\"1\" class=\"dataframe\">\n",
       "  <thead>\n",
       "    <tr style=\"text-align: right;\">\n",
       "      <th></th>\n",
       "      <th>recnr_x</th>\n",
       "      <th>firstname</th>\n",
       "      <th>lastname</th>\n",
       "      <th>petname</th>\n",
       "      <th>dob_x</th>\n",
       "      <th>sex_x</th>\n",
       "      <th>nationalid_x</th>\n",
       "      <th>hdssid</th>\n",
       "      <th>hdsshhid</th>\n",
       "      <th>recnr_y</th>\n",
       "      <th>dob_y</th>\n",
       "      <th>sex_y</th>\n",
       "      <th>nationalid_y</th>\n",
       "      <th>patientid</th>\n",
       "      <th>visitdate</th>\n",
       "    </tr>\n",
       "  </thead>\n",
       "  <tbody>\n",
       "    <tr>\n",
       "      <th>0</th>\n",
       "      <td>8</td>\n",
       "      <td>Hassan</td>\n",
       "      <td>Kapisi</td>\n",
       "      <td>Ganyana</td>\n",
       "      <td>25/03/1981 00:00</td>\n",
       "      <td>1</td>\n",
       "      <td>NaN</td>\n",
       "      <td>I20008</td>\n",
       "      <td>HH100008</td>\n",
       "      <td>764</td>\n",
       "      <td>25/03/1981 00:00</td>\n",
       "      <td>1</td>\n",
       "      <td>N_ID_7262</td>\n",
       "      <td>2834</td>\n",
       "      <td>27/03/2020</td>\n",
       "    </tr>\n",
       "    <tr>\n",
       "      <th>1</th>\n",
       "      <td>9</td>\n",
       "      <td>Zubairi</td>\n",
       "      <td>Adam</td>\n",
       "      <td>Lubega</td>\n",
       "      <td>01/10/1931 00:00</td>\n",
       "      <td>1</td>\n",
       "      <td>NaN</td>\n",
       "      <td>I20009</td>\n",
       "      <td>HH100009</td>\n",
       "      <td>2093</td>\n",
       "      <td>01/10/1931 00:00</td>\n",
       "      <td>1</td>\n",
       "      <td>N_ID_11240</td>\n",
       "      <td>4161</td>\n",
       "      <td>12/05/2020</td>\n",
       "    </tr>\n",
       "    <tr>\n",
       "      <th>2</th>\n",
       "      <td>13</td>\n",
       "      <td>Kitimbo</td>\n",
       "      <td>Bahati</td>\n",
       "      <td>Labeja</td>\n",
       "      <td>04/10/1995 00:00</td>\n",
       "      <td>1</td>\n",
       "      <td>NaN</td>\n",
       "      <td>I20013</td>\n",
       "      <td>HH100013</td>\n",
       "      <td>2806</td>\n",
       "      <td>04/10/1995 00:00</td>\n",
       "      <td>1</td>\n",
       "      <td>N_ID_13691</td>\n",
       "      <td>4966</td>\n",
       "      <td>13/03/2019</td>\n",
       "    </tr>\n",
       "    <tr>\n",
       "      <th>3</th>\n",
       "      <td>14</td>\n",
       "      <td>Nakaziba</td>\n",
       "      <td>Kamega</td>\n",
       "      <td>NaN</td>\n",
       "      <td>28/07/1947 00:00</td>\n",
       "      <td>2</td>\n",
       "      <td>NaN</td>\n",
       "      <td>I20014</td>\n",
       "      <td>HH100014</td>\n",
       "      <td>2800</td>\n",
       "      <td>28/07/1947 00:00</td>\n",
       "      <td>2</td>\n",
       "      <td>N_ID_13397</td>\n",
       "      <td>4868</td>\n",
       "      <td>21/01/2023</td>\n",
       "    </tr>\n",
       "    <tr>\n",
       "      <th>4</th>\n",
       "      <td>15</td>\n",
       "      <td>Nangobi</td>\n",
       "      <td>Shamimu</td>\n",
       "      <td>NaN</td>\n",
       "      <td>12/08/2012 00:00</td>\n",
       "      <td>2</td>\n",
       "      <td>NaN</td>\n",
       "      <td>I20015</td>\n",
       "      <td>HH100015</td>\n",
       "      <td>774</td>\n",
       "      <td>12/08/2012 00:00</td>\n",
       "      <td>2</td>\n",
       "      <td>N_ID_7292</td>\n",
       "      <td>2844</td>\n",
       "      <td>08/12/2022</td>\n",
       "    </tr>\n",
       "  </tbody>\n",
       "</table>\n",
       "</div>"
      ],
      "text/plain": [
       "   recnr_x firstname lastname  petname             dob_x  sex_x  nationalid_x  \\\n",
       "0        8    Hassan   Kapisi  Ganyana  25/03/1981 00:00      1           NaN   \n",
       "1        9   Zubairi     Adam   Lubega  01/10/1931 00:00      1           NaN   \n",
       "2       13   Kitimbo   Bahati   Labeja  04/10/1995 00:00      1           NaN   \n",
       "3       14  Nakaziba   Kamega      NaN  28/07/1947 00:00      2           NaN   \n",
       "4       15   Nangobi  Shamimu      NaN  12/08/2012 00:00      2           NaN   \n",
       "\n",
       "   hdssid  hdsshhid  recnr_y             dob_y  sex_y nationalid_y  patientid  \\\n",
       "0  I20008  HH100008      764  25/03/1981 00:00      1    N_ID_7262       2834   \n",
       "1  I20009  HH100009     2093  01/10/1931 00:00      1   N_ID_11240       4161   \n",
       "2  I20013  HH100013     2806  04/10/1995 00:00      1   N_ID_13691       4966   \n",
       "3  I20014  HH100014     2800  28/07/1947 00:00      2   N_ID_13397       4868   \n",
       "4  I20015  HH100015      774  12/08/2012 00:00      2    N_ID_7292       2844   \n",
       "\n",
       "    visitdate  \n",
       "0  27/03/2020  \n",
       "1  12/05/2020  \n",
       "2  13/03/2019  \n",
       "3  21/01/2023  \n",
       "4  08/12/2022  "
      ]
     },
     "execution_count": 82,
     "metadata": {},
     "output_type": "execute_result"
    }
   ],
   "source": [
    "common_names.head()"
   ]
  },
  {
   "cell_type": "code",
   "execution_count": 65,
   "id": "73f8d8ca",
   "metadata": {},
   "outputs": [],
   "source": [
    "#first removing the duplicates in any one dataset before finding shared datapoints \n",
    "h_facility_unique = h_facility.drop_duplicates(subset=['firstname', 'lastname'])\n",
    "hdss_unique = hdss.drop_duplicates(subset=['firstname', 'lastname'])"
   ]
  },
  {
   "cell_type": "code",
   "execution_count": 66,
   "id": "70691ee9",
   "metadata": {},
   "outputs": [
    {
     "data": {
      "text/plain": [
       "(2124, 16)"
      ]
     },
     "execution_count": 66,
     "metadata": {},
     "output_type": "execute_result"
    }
   ],
   "source": [
    "common_names1 = pd.merge(h_facility_unique, hdss_unique, on = ['firstname', 'lastname'], how = 'inner')\n",
    "common_names1.shape"
   ]
  },
  {
   "cell_type": "markdown",
   "id": "e024c95c",
   "metadata": {},
   "source": [
    "## HDSS Dataset"
   ]
  },
  {
   "cell_type": "code",
   "execution_count": 34,
   "id": "26c890b0",
   "metadata": {},
   "outputs": [
    {
     "name": "stderr",
     "output_type": "stream",
     "text": [
      "/var/folders/l2/qgrxz4350gz_qcq4sy41b4pm0000gn/T/ipykernel_6468/2274191625.py:1: DeprecationWarning: `import pandas_profiling` is going to be deprecated by April 1st. Please use `import ydata_profiling` instead.\n",
      "  from pandas_profiling import ProfileReport\n"
     ]
    }
   ],
   "source": [
    "from pandas_profiling import ProfileReport"
   ]
  },
  {
   "cell_type": "code",
   "execution_count": 40,
   "id": "3e9ef4c4",
   "metadata": {},
   "outputs": [],
   "source": [
    "profile = ProfileReport(hdss, title='Pandas Profiling Report', explorative=True)"
   ]
  },
  {
   "cell_type": "code",
   "execution_count": 41,
   "id": "facef6e4",
   "metadata": {},
   "outputs": [
    {
     "data": {
      "application/vnd.jupyter.widget-view+json": {
       "model_id": "c9440375f81f4b01998cddefbb22f275",
       "version_major": 2,
       "version_minor": 0
      },
      "text/plain": [
       "Summarize dataset:   0%|          | 0/5 [00:00<?, ?it/s]"
      ]
     },
     "metadata": {},
     "output_type": "display_data"
    },
    {
     "data": {
      "application/vnd.jupyter.widget-view+json": {
       "model_id": "95a5d92f66c74acbaac448c0449fe50c",
       "version_major": 2,
       "version_minor": 0
      },
      "text/plain": [
       "Generate report structure:   0%|          | 0/1 [00:00<?, ?it/s]"
      ]
     },
     "metadata": {},
     "output_type": "display_data"
    },
    {
     "data": {
      "application/vnd.jupyter.widget-view+json": {
       "model_id": "be3f6603d1d04619bd30c75473e4b18f",
       "version_major": 2,
       "version_minor": 0
      },
      "text/plain": [
       "Render HTML:   0%|          | 0/1 [00:00<?, ?it/s]"
      ]
     },
     "metadata": {},
     "output_type": "display_data"
    },
    {
     "data": {
      "application/vnd.jupyter.widget-view+json": {
       "model_id": "36ccdb31b1d94137968d402e7756ea98",
       "version_major": 2,
       "version_minor": 0
      },
      "text/plain": [
       "Export report to file:   0%|          | 0/1 [00:00<?, ?it/s]"
      ]
     },
     "metadata": {},
     "output_type": "display_data"
    }
   ],
   "source": [
    "profile.to_file(\"hdss_report.html\")"
   ]
  },
  {
   "cell_type": "markdown",
   "id": "ccab3245",
   "metadata": {},
   "source": [
    "## Health Facility dataset"
   ]
  },
  {
   "cell_type": "code",
   "execution_count": 42,
   "id": "1f54c588",
   "metadata": {},
   "outputs": [],
   "source": [
    "hf_profile = ProfileReport(h_facility, title = \"EDA report\", explorative = True)"
   ]
  },
  {
   "cell_type": "code",
   "execution_count": 44,
   "id": "c08301e0",
   "metadata": {},
   "outputs": [
    {
     "data": {
      "application/vnd.jupyter.widget-view+json": {
       "model_id": "3800735714ac40b8a5d23e503ec55eb7",
       "version_major": 2,
       "version_minor": 0
      },
      "text/plain": [
       "Summarize dataset:   0%|          | 0/5 [00:00<?, ?it/s]"
      ]
     },
     "metadata": {},
     "output_type": "display_data"
    },
    {
     "data": {
      "application/vnd.jupyter.widget-view+json": {
       "model_id": "77b13997d3c04f3aa17b12e255d235f8",
       "version_major": 2,
       "version_minor": 0
      },
      "text/plain": [
       "Generate report structure:   0%|          | 0/1 [00:00<?, ?it/s]"
      ]
     },
     "metadata": {},
     "output_type": "display_data"
    },
    {
     "data": {
      "application/vnd.jupyter.widget-view+json": {
       "model_id": "e06b869deb94496da62ff351a2fda98c",
       "version_major": 2,
       "version_minor": 0
      },
      "text/plain": [
       "Render HTML:   0%|          | 0/1 [00:00<?, ?it/s]"
      ]
     },
     "metadata": {},
     "output_type": "display_data"
    },
    {
     "data": {
      "application/vnd.jupyter.widget-view+json": {
       "model_id": "0f805c40c17145cea0164368ab1bb0a8",
       "version_major": 2,
       "version_minor": 0
      },
      "text/plain": [
       "Export report to file:   0%|          | 0/1 [00:00<?, ?it/s]"
      ]
     },
     "metadata": {},
     "output_type": "display_data"
    }
   ],
   "source": [
    "hf_profile.to_file(\"hf_report.html\")"
   ]
  },
  {
   "cell_type": "code",
   "execution_count": 47,
   "id": "7ad46aa0",
   "metadata": {},
   "outputs": [
    {
     "name": "stdout",
     "output_type": "stream",
     "text": [
      "object\n"
     ]
    }
   ],
   "source": [
    "print(h_facility.dob.dtype)"
   ]
  },
  {
   "cell_type": "code",
   "execution_count": 49,
   "id": "3ef95b86",
   "metadata": {},
   "outputs": [
    {
     "data": {
      "text/plain": [
       "recnr          int64\n",
       "firstname     object\n",
       "lastname      object\n",
       "petname       object\n",
       "dob           object\n",
       "sex            int64\n",
       "nationalid    object\n",
       "patientid      int64\n",
       "visitdate     object\n",
       "dtype: object"
      ]
     },
     "execution_count": 49,
     "metadata": {},
     "output_type": "execute_result"
    }
   ],
   "source": [
    "h_facility.dtypes"
   ]
  },
  {
   "cell_type": "code",
   "execution_count": null,
   "id": "4a93a826",
   "metadata": {},
   "outputs": [],
   "source": []
  },
  {
   "cell_type": "code",
   "execution_count": 51,
   "id": "23b3f804",
   "metadata": {},
   "outputs": [],
   "source": [
    "combined_df = pd.concat([hdss, h_facility], ignore_index=True)"
   ]
  },
  {
   "cell_type": "code",
   "execution_count": 52,
   "id": "5dc5e7b0",
   "metadata": {},
   "outputs": [
    {
     "data": {
      "text/html": [
       "<div>\n",
       "<style scoped>\n",
       "    .dataframe tbody tr th:only-of-type {\n",
       "        vertical-align: middle;\n",
       "    }\n",
       "\n",
       "    .dataframe tbody tr th {\n",
       "        vertical-align: top;\n",
       "    }\n",
       "\n",
       "    .dataframe thead th {\n",
       "        text-align: right;\n",
       "    }\n",
       "</style>\n",
       "<table border=\"1\" class=\"dataframe\">\n",
       "  <thead>\n",
       "    <tr style=\"text-align: right;\">\n",
       "      <th></th>\n",
       "      <th>recnr</th>\n",
       "      <th>firstname</th>\n",
       "      <th>lastname</th>\n",
       "      <th>petname</th>\n",
       "      <th>dob</th>\n",
       "      <th>sex</th>\n",
       "      <th>nationalid</th>\n",
       "      <th>hdssid</th>\n",
       "      <th>hdsshhid</th>\n",
       "      <th>patientid</th>\n",
       "      <th>visitdate</th>\n",
       "    </tr>\n",
       "  </thead>\n",
       "  <tbody>\n",
       "    <tr>\n",
       "      <th>0</th>\n",
       "      <td>1</td>\n",
       "      <td>Zaina</td>\n",
       "      <td>Hanifa</td>\n",
       "      <td>Ula</td>\n",
       "      <td>22/09/1930 00:00</td>\n",
       "      <td>2</td>\n",
       "      <td>NaN</td>\n",
       "      <td>I20001</td>\n",
       "      <td>HH100001</td>\n",
       "      <td>NaN</td>\n",
       "      <td>NaN</td>\n",
       "    </tr>\n",
       "    <tr>\n",
       "      <th>1</th>\n",
       "      <td>2</td>\n",
       "      <td>Godfrey</td>\n",
       "      <td>Maganda</td>\n",
       "      <td>Mukama</td>\n",
       "      <td>15/07/1934 00:00</td>\n",
       "      <td>1</td>\n",
       "      <td>NaN</td>\n",
       "      <td>I20002</td>\n",
       "      <td>HH100002</td>\n",
       "      <td>NaN</td>\n",
       "      <td>NaN</td>\n",
       "    </tr>\n",
       "    <tr>\n",
       "      <th>2</th>\n",
       "      <td>3</td>\n",
       "      <td>Kasim</td>\n",
       "      <td>Ngobi</td>\n",
       "      <td>Galabuzi</td>\n",
       "      <td>03/03/1983 00:00</td>\n",
       "      <td>1</td>\n",
       "      <td>NaN</td>\n",
       "      <td>I20003</td>\n",
       "      <td>HH100003</td>\n",
       "      <td>NaN</td>\n",
       "      <td>NaN</td>\n",
       "    </tr>\n",
       "    <tr>\n",
       "      <th>3</th>\n",
       "      <td>4</td>\n",
       "      <td>Esther</td>\n",
       "      <td>NaN</td>\n",
       "      <td>Inara</td>\n",
       "      <td>30/07/1968 00:00</td>\n",
       "      <td>2</td>\n",
       "      <td>NaN</td>\n",
       "      <td>I20004</td>\n",
       "      <td>HH100004</td>\n",
       "      <td>NaN</td>\n",
       "      <td>NaN</td>\n",
       "    </tr>\n",
       "    <tr>\n",
       "      <th>4</th>\n",
       "      <td>5</td>\n",
       "      <td>Sumaya</td>\n",
       "      <td>Swabula</td>\n",
       "      <td>NaN</td>\n",
       "      <td>13/12/1930 00:00</td>\n",
       "      <td>2</td>\n",
       "      <td>NaN</td>\n",
       "      <td>I20005</td>\n",
       "      <td>HH100005</td>\n",
       "      <td>NaN</td>\n",
       "      <td>NaN</td>\n",
       "    </tr>\n",
       "  </tbody>\n",
       "</table>\n",
       "</div>"
      ],
      "text/plain": [
       "   recnr firstname lastname   petname               dob  sex nationalid  \\\n",
       "0      1     Zaina   Hanifa       Ula  22/09/1930 00:00    2        NaN   \n",
       "1      2   Godfrey  Maganda    Mukama  15/07/1934 00:00    1        NaN   \n",
       "2      3     Kasim    Ngobi  Galabuzi  03/03/1983 00:00    1        NaN   \n",
       "3      4    Esther      NaN     Inara  30/07/1968 00:00    2        NaN   \n",
       "4      5    Sumaya  Swabula       NaN  13/12/1930 00:00    2        NaN   \n",
       "\n",
       "   hdssid  hdsshhid  patientid visitdate  \n",
       "0  I20001  HH100001        NaN       NaN  \n",
       "1  I20002  HH100002        NaN       NaN  \n",
       "2  I20003  HH100003        NaN       NaN  \n",
       "3  I20004  HH100004        NaN       NaN  \n",
       "4  I20005  HH100005        NaN       NaN  "
      ]
     },
     "execution_count": 52,
     "metadata": {},
     "output_type": "execute_result"
    }
   ],
   "source": [
    "combined_df.head()"
   ]
  },
  {
   "cell_type": "code",
   "execution_count": 53,
   "id": "4441bb0d",
   "metadata": {},
   "outputs": [
    {
     "data": {
      "text/plain": [
       "(7017, 11)"
      ]
     },
     "execution_count": 53,
     "metadata": {},
     "output_type": "execute_result"
    }
   ],
   "source": [
    "combined_df.shape"
   ]
  },
  {
   "cell_type": "code",
   "execution_count": 66,
   "id": "2b045d5b",
   "metadata": {},
   "outputs": [
    {
     "data": {
      "text/plain": [
       "0"
      ]
     },
     "execution_count": 66,
     "metadata": {},
     "output_type": "execute_result"
    }
   ],
   "source": [
    "#how many in the hdss dataset share firstname, lastname, petname and dob\n",
    "\n",
    "counts = hdss.groupby(['firstname', 'lastname', 'petname', 'dob', 'sex']).size()\n",
    "counts[counts>1].size"
   ]
  },
  {
   "cell_type": "code",
   "execution_count": 67,
   "id": "5e34262e",
   "metadata": {},
   "outputs": [
    {
     "data": {
      "text/plain": [
       "259"
      ]
     },
     "execution_count": 67,
     "metadata": {},
     "output_type": "execute_result"
    }
   ],
   "source": [
    "#how many in the health facility dataset share firstname, lastname, petname and dob\n",
    "\n",
    "counts = h_facility.groupby(['firstname', 'lastname', 'petname', 'dob', 'sex']).size()\n",
    "counts[counts>1].size"
   ]
  },
  {
   "cell_type": "code",
   "execution_count": 57,
   "id": "c548f3b4",
   "metadata": {},
   "outputs": [
    {
     "data": {
      "text/plain": [
       "firstname  lastname  petname    dob             \n",
       "Abubakali  Lunkumu   Jjunju     07/08/1934 00:00    2\n",
       "Abuneli    Lawrence  Asega      11/08/1959 00:00    2\n",
       "Aidah      Fatuma    Aya        13/12/2011 00:00    2\n",
       "Akello     Jesca     Barungi    20/12/1937 00:00    2\n",
       "Alex       Idinda    Nakato     08/10/1967 00:00    2\n",
       "                                                   ..\n",
       "Zaina      Mbabazi   Nakayiza   12/12/2017 00:00    2\n",
       "Zauma      Bridget   Nakalema   28/04/1993 00:00    2\n",
       "Zawumina   Nakaziba  Kamau      21/09/1959 00:00    2\n",
       "Ziriya     Kauma     Kato       11/11/1963 00:00    2\n",
       "Zubedah    Nakaziba  Nakalanzi  03/03/1982 00:00    2\n",
       "Length: 259, dtype: int64"
      ]
     },
     "execution_count": 57,
     "metadata": {},
     "output_type": "execute_result"
    }
   ],
   "source": [
    "counts[counts>1]"
   ]
  },
  {
   "cell_type": "code",
   "execution_count": 68,
   "id": "0e266748",
   "metadata": {},
   "outputs": [
    {
     "data": {
      "text/plain": [
       "(2609, 9)"
      ]
     },
     "execution_count": 68,
     "metadata": {},
     "output_type": "execute_result"
    }
   ],
   "source": [
    "hf_unique = h_facility.drop_duplicates(subset=['firstname', 'lastname', 'dob', 'petname', 'sex'])\n",
    "\n",
    "hf_unique.shape\n"
   ]
  },
  {
   "cell_type": "code",
   "execution_count": 59,
   "id": "8ff0a9f3",
   "metadata": {},
   "outputs": [
    {
     "data": {
      "text/plain": [
       "293"
      ]
     },
     "execution_count": 59,
     "metadata": {},
     "output_type": "execute_result"
    }
   ],
   "source": []
  },
  {
   "cell_type": "code",
   "execution_count": 60,
   "id": "e1a2ea33",
   "metadata": {},
   "outputs": [
    {
     "data": {
      "text/plain": [
       "0"
      ]
     },
     "execution_count": 60,
     "metadata": {},
     "output_type": "execute_result"
    }
   ],
   "source": [
    "ss = hf_unique.groupby(['firstname', 'lastname', 'petname', 'dob']).size()\n",
    "ss[ss>1].size"
   ]
  },
  {
   "cell_type": "markdown",
   "id": "37fe6757",
   "metadata": {},
   "source": [
    "### Concatenate datasets"
   ]
  },
  {
   "cell_type": "code",
   "execution_count": 61,
   "id": "e52d704a",
   "metadata": {},
   "outputs": [],
   "source": [
    "combined_df = pd.concat([hdss, hf_unique], ignore_index=True)"
   ]
  },
  {
   "cell_type": "code",
   "execution_count": 62,
   "id": "50004424",
   "metadata": {},
   "outputs": [
    {
     "data": {
      "text/html": [
       "<div>\n",
       "<style scoped>\n",
       "    .dataframe tbody tr th:only-of-type {\n",
       "        vertical-align: middle;\n",
       "    }\n",
       "\n",
       "    .dataframe tbody tr th {\n",
       "        vertical-align: top;\n",
       "    }\n",
       "\n",
       "    .dataframe thead th {\n",
       "        text-align: right;\n",
       "    }\n",
       "</style>\n",
       "<table border=\"1\" class=\"dataframe\">\n",
       "  <thead>\n",
       "    <tr style=\"text-align: right;\">\n",
       "      <th></th>\n",
       "      <th>recnr</th>\n",
       "      <th>firstname</th>\n",
       "      <th>lastname</th>\n",
       "      <th>petname</th>\n",
       "      <th>dob</th>\n",
       "      <th>sex</th>\n",
       "      <th>nationalid</th>\n",
       "      <th>hdssid</th>\n",
       "      <th>hdsshhid</th>\n",
       "      <th>patientid</th>\n",
       "      <th>visitdate</th>\n",
       "    </tr>\n",
       "  </thead>\n",
       "  <tbody>\n",
       "    <tr>\n",
       "      <th>0</th>\n",
       "      <td>1</td>\n",
       "      <td>Zaina</td>\n",
       "      <td>Hanifa</td>\n",
       "      <td>Ula</td>\n",
       "      <td>22/09/1930 00:00</td>\n",
       "      <td>2</td>\n",
       "      <td>NaN</td>\n",
       "      <td>I20001</td>\n",
       "      <td>HH100001</td>\n",
       "      <td>NaN</td>\n",
       "      <td>NaN</td>\n",
       "    </tr>\n",
       "    <tr>\n",
       "      <th>1</th>\n",
       "      <td>2</td>\n",
       "      <td>Godfrey</td>\n",
       "      <td>Maganda</td>\n",
       "      <td>Mukama</td>\n",
       "      <td>15/07/1934 00:00</td>\n",
       "      <td>1</td>\n",
       "      <td>NaN</td>\n",
       "      <td>I20002</td>\n",
       "      <td>HH100002</td>\n",
       "      <td>NaN</td>\n",
       "      <td>NaN</td>\n",
       "    </tr>\n",
       "    <tr>\n",
       "      <th>2</th>\n",
       "      <td>3</td>\n",
       "      <td>Kasim</td>\n",
       "      <td>Ngobi</td>\n",
       "      <td>Galabuzi</td>\n",
       "      <td>03/03/1983 00:00</td>\n",
       "      <td>1</td>\n",
       "      <td>NaN</td>\n",
       "      <td>I20003</td>\n",
       "      <td>HH100003</td>\n",
       "      <td>NaN</td>\n",
       "      <td>NaN</td>\n",
       "    </tr>\n",
       "    <tr>\n",
       "      <th>3</th>\n",
       "      <td>4</td>\n",
       "      <td>Esther</td>\n",
       "      <td>NaN</td>\n",
       "      <td>Inara</td>\n",
       "      <td>30/07/1968 00:00</td>\n",
       "      <td>2</td>\n",
       "      <td>NaN</td>\n",
       "      <td>I20004</td>\n",
       "      <td>HH100004</td>\n",
       "      <td>NaN</td>\n",
       "      <td>NaN</td>\n",
       "    </tr>\n",
       "    <tr>\n",
       "      <th>4</th>\n",
       "      <td>5</td>\n",
       "      <td>Sumaya</td>\n",
       "      <td>Swabula</td>\n",
       "      <td>NaN</td>\n",
       "      <td>13/12/1930 00:00</td>\n",
       "      <td>2</td>\n",
       "      <td>NaN</td>\n",
       "      <td>I20005</td>\n",
       "      <td>HH100005</td>\n",
       "      <td>NaN</td>\n",
       "      <td>NaN</td>\n",
       "    </tr>\n",
       "  </tbody>\n",
       "</table>\n",
       "</div>"
      ],
      "text/plain": [
       "   recnr firstname lastname   petname               dob  sex nationalid  \\\n",
       "0      1     Zaina   Hanifa       Ula  22/09/1930 00:00    2        NaN   \n",
       "1      2   Godfrey  Maganda    Mukama  15/07/1934 00:00    1        NaN   \n",
       "2      3     Kasim    Ngobi  Galabuzi  03/03/1983 00:00    1        NaN   \n",
       "3      4    Esther      NaN     Inara  30/07/1968 00:00    2        NaN   \n",
       "4      5    Sumaya  Swabula       NaN  13/12/1930 00:00    2        NaN   \n",
       "\n",
       "   hdssid  hdsshhid  patientid visitdate  \n",
       "0  I20001  HH100001        NaN       NaN  \n",
       "1  I20002  HH100002        NaN       NaN  \n",
       "2  I20003  HH100003        NaN       NaN  \n",
       "3  I20004  HH100004        NaN       NaN  \n",
       "4  I20005  HH100005        NaN       NaN  "
      ]
     },
     "execution_count": 62,
     "metadata": {},
     "output_type": "execute_result"
    }
   ],
   "source": [
    "combined_df.head()"
   ]
  },
  {
   "cell_type": "code",
   "execution_count": 69,
   "id": "d84d9e8f",
   "metadata": {},
   "outputs": [],
   "source": [
    "duplicates = combined_df.duplicated(subset=['firstname', 'lastname', 'petname', 'dob', 'sex'], keep=False)"
   ]
  },
  {
   "cell_type": "code",
   "execution_count": 70,
   "id": "c429d85b",
   "metadata": {},
   "outputs": [
    {
     "data": {
      "text/plain": [
       "587"
      ]
     },
     "execution_count": 70,
     "metadata": {},
     "output_type": "execute_result"
    }
   ],
   "source": [
    "counts = combined_df.groupby(['firstname', 'lastname', 'petname', 'dob', 'sex']).size()\n",
    "counts[counts>1].size"
   ]
  },
  {
   "cell_type": "code",
   "execution_count": 71,
   "id": "1910ce0e",
   "metadata": {},
   "outputs": [
    {
     "data": {
      "text/plain": [
       "870"
      ]
     },
     "execution_count": 71,
     "metadata": {},
     "output_type": "execute_result"
    }
   ],
   "source": [
    "# Merge the datasets to find common records\n",
    "common_records = pd.merge(hf_unique, hdss, on=['firstname', 'lastname', 'petname', 'dob', 'sex'], how='inner')\n",
    "len(common_records)"
   ]
  },
  {
   "cell_type": "code",
   "execution_count": 81,
   "id": "dbcccbeb",
   "metadata": {},
   "outputs": [
    {
     "data": {
      "text/html": [
       "<div>\n",
       "<style scoped>\n",
       "    .dataframe tbody tr th:only-of-type {\n",
       "        vertical-align: middle;\n",
       "    }\n",
       "\n",
       "    .dataframe tbody tr th {\n",
       "        vertical-align: top;\n",
       "    }\n",
       "\n",
       "    .dataframe thead th {\n",
       "        text-align: right;\n",
       "    }\n",
       "</style>\n",
       "<table border=\"1\" class=\"dataframe\">\n",
       "  <thead>\n",
       "    <tr style=\"text-align: right;\">\n",
       "      <th></th>\n",
       "      <th>recnr_x</th>\n",
       "      <th>firstname</th>\n",
       "      <th>lastname</th>\n",
       "      <th>petname</th>\n",
       "      <th>dob</th>\n",
       "      <th>sex</th>\n",
       "      <th>nationalid_x</th>\n",
       "      <th>patientid</th>\n",
       "      <th>visitdate</th>\n",
       "      <th>recnr_y</th>\n",
       "      <th>nationalid_y</th>\n",
       "      <th>hdssid</th>\n",
       "      <th>hdsshhid</th>\n",
       "    </tr>\n",
       "  </thead>\n",
       "  <tbody>\n",
       "    <tr>\n",
       "      <th>0</th>\n",
       "      <td>3</td>\n",
       "      <td>Gloria</td>\n",
       "      <td>Rashida</td>\n",
       "      <td>NaN</td>\n",
       "      <td>11/07/1993 00:00</td>\n",
       "      <td>2</td>\n",
       "      <td>N_ID_11861</td>\n",
       "      <td>2079</td>\n",
       "      <td>14/12/2022</td>\n",
       "      <td>2613</td>\n",
       "      <td>NaN</td>\n",
       "      <td>I22613</td>\n",
       "      <td>HH102613</td>\n",
       "    </tr>\n",
       "    <tr>\n",
       "      <th>1</th>\n",
       "      <td>8</td>\n",
       "      <td>Namutamba</td>\n",
       "      <td>Sumaya</td>\n",
       "      <td>Bria</td>\n",
       "      <td>18/02/1997 00:00</td>\n",
       "      <td>2</td>\n",
       "      <td>N_ID_11876</td>\n",
       "      <td>2084</td>\n",
       "      <td>11/08/2023</td>\n",
       "      <td>2902</td>\n",
       "      <td>NaN</td>\n",
       "      <td>I22902</td>\n",
       "      <td>HH102902</td>\n",
       "    </tr>\n",
       "    <tr>\n",
       "      <th>2</th>\n",
       "      <td>9</td>\n",
       "      <td>Madina</td>\n",
       "      <td>Shirati</td>\n",
       "      <td>Sira</td>\n",
       "      <td>10/07/1997 00:00</td>\n",
       "      <td>2</td>\n",
       "      <td>N_ID_5006</td>\n",
       "      <td>2085</td>\n",
       "      <td>11/06/2021</td>\n",
       "      <td>2951</td>\n",
       "      <td>NaN</td>\n",
       "      <td>I22951</td>\n",
       "      <td>HH102951</td>\n",
       "    </tr>\n",
       "    <tr>\n",
       "      <th>3</th>\n",
       "      <td>12</td>\n",
       "      <td>Nasiri</td>\n",
       "      <td>Kirunda</td>\n",
       "      <td>Ebitu</td>\n",
       "      <td>02/06/1959 00:00</td>\n",
       "      <td>1</td>\n",
       "      <td>N_ID_5015</td>\n",
       "      <td>2088</td>\n",
       "      <td>28/11/2018</td>\n",
       "      <td>1721</td>\n",
       "      <td>NaN</td>\n",
       "      <td>I21721</td>\n",
       "      <td>HH101721</td>\n",
       "    </tr>\n",
       "    <tr>\n",
       "      <th>4</th>\n",
       "      <td>16</td>\n",
       "      <td>Akiramu</td>\n",
       "      <td>Kigenyi</td>\n",
       "      <td>Malinga</td>\n",
       "      <td>18/08/2010 00:00</td>\n",
       "      <td>1</td>\n",
       "      <td>N_ID_5027</td>\n",
       "      <td>2091</td>\n",
       "      <td>07/04/2020</td>\n",
       "      <td>3060</td>\n",
       "      <td>NaN</td>\n",
       "      <td>I23060</td>\n",
       "      <td>HH103060</td>\n",
       "    </tr>\n",
       "  </tbody>\n",
       "</table>\n",
       "</div>"
      ],
      "text/plain": [
       "   recnr_x  firstname lastname  petname               dob  sex nationalid_x  \\\n",
       "0        3     Gloria  Rashida      NaN  11/07/1993 00:00    2   N_ID_11861   \n",
       "1        8  Namutamba   Sumaya     Bria  18/02/1997 00:00    2   N_ID_11876   \n",
       "2        9     Madina  Shirati     Sira  10/07/1997 00:00    2    N_ID_5006   \n",
       "3       12     Nasiri  Kirunda    Ebitu  02/06/1959 00:00    1    N_ID_5015   \n",
       "4       16    Akiramu  Kigenyi  Malinga  18/08/2010 00:00    1    N_ID_5027   \n",
       "\n",
       "   patientid   visitdate  recnr_y  nationalid_y  hdssid  hdsshhid  \n",
       "0       2079  14/12/2022     2613           NaN  I22613  HH102613  \n",
       "1       2084  11/08/2023     2902           NaN  I22902  HH102902  \n",
       "2       2085  11/06/2021     2951           NaN  I22951  HH102951  \n",
       "3       2088  28/11/2018     1721           NaN  I21721  HH101721  \n",
       "4       2091  07/04/2020     3060           NaN  I23060  HH103060  "
      ]
     },
     "execution_count": 81,
     "metadata": {},
     "output_type": "execute_result"
    }
   ],
   "source": [
    "common_records.head()"
   ]
  },
  {
   "cell_type": "markdown",
   "id": "b709c549",
   "metadata": {},
   "source": [
    "## Permutations of duplications"
   ]
  },
  {
   "cell_type": "code",
   "execution_count": 74,
   "id": "2bcbba6b",
   "metadata": {},
   "outputs": [
    {
     "data": {
      "text/plain": [
       "264"
      ]
     },
     "execution_count": 74,
     "metadata": {},
     "output_type": "execute_result"
    }
   ],
   "source": [
    "counts = h_facility.groupby(['firstname', 'petname', 'dob', 'sex']).size()\n",
    "counts[counts>1].size"
   ]
  },
  {
   "cell_type": "code",
   "execution_count": 76,
   "id": "21c4c9ec",
   "metadata": {},
   "outputs": [
    {
     "data": {
      "text/plain": [
       "271"
      ]
     },
     "execution_count": 76,
     "metadata": {},
     "output_type": "execute_result"
    }
   ],
   "source": [
    "counts = h_facility.groupby(['firstname','lastname', 'dob', 'sex']).size()\n",
    "counts[counts>1].size"
   ]
  },
  {
   "cell_type": "code",
   "execution_count": 78,
   "id": "ba107123",
   "metadata": {},
   "outputs": [
    {
     "data": {
      "text/plain": [
       "0"
      ]
     },
     "execution_count": 78,
     "metadata": {},
     "output_type": "execute_result"
    }
   ],
   "source": [
    "counts = hdss.groupby(['firstname','lastname', 'dob', 'sex', 'petname']).size()\n",
    "counts[counts>1].size"
   ]
  },
  {
   "cell_type": "code",
   "execution_count": 79,
   "id": "42b57636",
   "metadata": {},
   "outputs": [
    {
     "data": {
      "text/plain": [
       "0"
      ]
     },
     "execution_count": 79,
     "metadata": {},
     "output_type": "execute_result"
    }
   ],
   "source": [
    "counts = hdss.groupby(['firstname','lastname', 'dob', 'sex']).size()\n",
    "counts[counts>1].size"
   ]
  },
  {
   "cell_type": "code",
   "execution_count": 80,
   "id": "2f9689de",
   "metadata": {},
   "outputs": [
    {
     "data": {
      "text/plain": [
       "0"
      ]
     },
     "execution_count": 80,
     "metadata": {},
     "output_type": "execute_result"
    }
   ],
   "source": [
    "counts = hdss.groupby(['firstname', 'dob', 'sex', 'petname']).size()\n",
    "counts[counts>1].size"
   ]
  },
  {
   "cell_type": "code",
   "execution_count": null,
   "id": "3506ee87",
   "metadata": {},
   "outputs": [],
   "source": []
  }
 ],
 "metadata": {
  "kernelspec": {
   "display_name": "Python 3 (ipykernel)",
   "language": "python",
   "name": "python3"
  },
  "language_info": {
   "codemirror_mode": {
    "name": "ipython",
    "version": 3
   },
   "file_extension": ".py",
   "mimetype": "text/x-python",
   "name": "python",
   "nbconvert_exporter": "python",
   "pygments_lexer": "ipython3",
   "version": "3.10.9"
  }
 },
 "nbformat": 4,
 "nbformat_minor": 5
}
